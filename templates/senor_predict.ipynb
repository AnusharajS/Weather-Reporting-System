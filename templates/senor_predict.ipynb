{
 "cells": [
  {
   "cell_type": "code",
   "execution_count": 1,
   "metadata": {},
   "outputs": [],
   "source": [
    "import numpy as np\n",
    "import pandas as pd\n",
    "import tensorflow as tf\n",
    "import keras\n",
    "import os"
   ]
  },
  {
   "cell_type": "code",
   "execution_count": 2,
   "metadata": {},
   "outputs": [],
   "source": [
    "from keras.models import Sequential\n",
    "from keras.layers import LSTM\n",
    "from keras.layers import Dense\n",
    "from keras.layers import Flatten"
   ]
  },
  {
   "cell_type": "code",
   "execution_count": 3,
   "metadata": {},
   "outputs": [],
   "source": [
    "df=pd.read_csv(\"C:/Users/Anusha/OneDrive/Documents/VI SEM/IoT lab/IoT Mini project/sensor_sample.csv\")"
   ]
  },
  {
   "cell_type": "code",
   "execution_count": 4,
   "metadata": {},
   "outputs": [
    {
     "data": {
      "text/html": [
       "<div>\n",
       "<style scoped>\n",
       "    .dataframe tbody tr th:only-of-type {\n",
       "        vertical-align: middle;\n",
       "    }\n",
       "\n",
       "    .dataframe tbody tr th {\n",
       "        vertical-align: top;\n",
       "    }\n",
       "\n",
       "    .dataframe thead th {\n",
       "        text-align: right;\n",
       "    }\n",
       "</style>\n",
       "<table border=\"1\" class=\"dataframe\">\n",
       "  <thead>\n",
       "    <tr style=\"text-align: right;\">\n",
       "      <th></th>\n",
       "      <th>Time</th>\n",
       "      <th>Temperature_C</th>\n",
       "      <th>Temperature_F</th>\n",
       "      <th>Humidity</th>\n",
       "      <th>Pressure</th>\n",
       "      <th>Dripping status</th>\n",
       "    </tr>\n",
       "  </thead>\n",
       "  <tbody>\n",
       "    <tr>\n",
       "      <th>0</th>\n",
       "      <td>2023/05/11_11-11-22</td>\n",
       "      <td>32.9</td>\n",
       "      <td>91.22</td>\n",
       "      <td>70</td>\n",
       "      <td>1007</td>\n",
       "      <td>NaN</td>\n",
       "    </tr>\n",
       "    <tr>\n",
       "      <th>1</th>\n",
       "      <td>2023/05/11_11-12-22</td>\n",
       "      <td>32.9</td>\n",
       "      <td>91.22</td>\n",
       "      <td>70</td>\n",
       "      <td>1007</td>\n",
       "      <td>NaN</td>\n",
       "    </tr>\n",
       "    <tr>\n",
       "      <th>2</th>\n",
       "      <td>2023/05/11_11-13-22</td>\n",
       "      <td>32.9</td>\n",
       "      <td>91.22</td>\n",
       "      <td>70</td>\n",
       "      <td>1007</td>\n",
       "      <td>NaN</td>\n",
       "    </tr>\n",
       "    <tr>\n",
       "      <th>3</th>\n",
       "      <td>2023/05/11_11-14-22</td>\n",
       "      <td>32.9</td>\n",
       "      <td>91.22</td>\n",
       "      <td>68</td>\n",
       "      <td>1007</td>\n",
       "      <td>NaN</td>\n",
       "    </tr>\n",
       "    <tr>\n",
       "      <th>4</th>\n",
       "      <td>2023/05/11_11-15-22</td>\n",
       "      <td>32.9</td>\n",
       "      <td>91.22</td>\n",
       "      <td>68</td>\n",
       "      <td>1007</td>\n",
       "      <td>NaN</td>\n",
       "    </tr>\n",
       "    <tr>\n",
       "      <th>5</th>\n",
       "      <td>2023/05/11_11-16-22</td>\n",
       "      <td>32.9</td>\n",
       "      <td>91.22</td>\n",
       "      <td>68</td>\n",
       "      <td>1007</td>\n",
       "      <td>NaN</td>\n",
       "    </tr>\n",
       "    <tr>\n",
       "      <th>6</th>\n",
       "      <td>2023/05/11_11-17-22</td>\n",
       "      <td>32.9</td>\n",
       "      <td>91.22</td>\n",
       "      <td>65</td>\n",
       "      <td>1007</td>\n",
       "      <td>NaN</td>\n",
       "    </tr>\n",
       "    <tr>\n",
       "      <th>7</th>\n",
       "      <td>2023/05/11_11-18-22</td>\n",
       "      <td>32.9</td>\n",
       "      <td>91.22</td>\n",
       "      <td>65</td>\n",
       "      <td>1007</td>\n",
       "      <td>NaN</td>\n",
       "    </tr>\n",
       "    <tr>\n",
       "      <th>8</th>\n",
       "      <td>2023/05/11_11-19-22</td>\n",
       "      <td>33.0</td>\n",
       "      <td>91.40</td>\n",
       "      <td>63</td>\n",
       "      <td>1007</td>\n",
       "      <td>NaN</td>\n",
       "    </tr>\n",
       "    <tr>\n",
       "      <th>9</th>\n",
       "      <td>2023/05/11_11-20-22</td>\n",
       "      <td>33.0</td>\n",
       "      <td>91.40</td>\n",
       "      <td>63</td>\n",
       "      <td>1007</td>\n",
       "      <td>NaN</td>\n",
       "    </tr>\n",
       "    <tr>\n",
       "      <th>10</th>\n",
       "      <td>2023/05/11_11-21-22</td>\n",
       "      <td>33.0</td>\n",
       "      <td>91.40</td>\n",
       "      <td>63</td>\n",
       "      <td>1007</td>\n",
       "      <td>NaN</td>\n",
       "    </tr>\n",
       "    <tr>\n",
       "      <th>11</th>\n",
       "      <td>2023/05/11_11-22-22</td>\n",
       "      <td>33.0</td>\n",
       "      <td>91.40</td>\n",
       "      <td>63</td>\n",
       "      <td>1007</td>\n",
       "      <td>NaN</td>\n",
       "    </tr>\n",
       "    <tr>\n",
       "      <th>12</th>\n",
       "      <td>2023/05/11_11-23-22</td>\n",
       "      <td>33.0</td>\n",
       "      <td>91.40</td>\n",
       "      <td>63</td>\n",
       "      <td>1007</td>\n",
       "      <td>NaN</td>\n",
       "    </tr>\n",
       "    <tr>\n",
       "      <th>13</th>\n",
       "      <td>2023/05/11_11-24-22</td>\n",
       "      <td>33.0</td>\n",
       "      <td>91.40</td>\n",
       "      <td>63</td>\n",
       "      <td>1007</td>\n",
       "      <td>NaN</td>\n",
       "    </tr>\n",
       "    <tr>\n",
       "      <th>14</th>\n",
       "      <td>2023/05/11_11-25-22</td>\n",
       "      <td>33.0</td>\n",
       "      <td>91.40</td>\n",
       "      <td>63</td>\n",
       "      <td>1007</td>\n",
       "      <td>NaN</td>\n",
       "    </tr>\n",
       "    <tr>\n",
       "      <th>15</th>\n",
       "      <td>2023/05/11_11-26-22</td>\n",
       "      <td>33.0</td>\n",
       "      <td>91.40</td>\n",
       "      <td>63</td>\n",
       "      <td>1007</td>\n",
       "      <td>NaN</td>\n",
       "    </tr>\n",
       "    <tr>\n",
       "      <th>16</th>\n",
       "      <td>2023/05/11_11-27-22</td>\n",
       "      <td>33.0</td>\n",
       "      <td>91.40</td>\n",
       "      <td>63</td>\n",
       "      <td>1007</td>\n",
       "      <td>NaN</td>\n",
       "    </tr>\n",
       "    <tr>\n",
       "      <th>17</th>\n",
       "      <td>2023/05/11_11-28-22</td>\n",
       "      <td>33.0</td>\n",
       "      <td>91.40</td>\n",
       "      <td>63</td>\n",
       "      <td>1007</td>\n",
       "      <td>NaN</td>\n",
       "    </tr>\n",
       "    <tr>\n",
       "      <th>18</th>\n",
       "      <td>2023/05/11_11-29-22</td>\n",
       "      <td>33.0</td>\n",
       "      <td>91.40</td>\n",
       "      <td>63</td>\n",
       "      <td>1007</td>\n",
       "      <td>NaN</td>\n",
       "    </tr>\n",
       "    <tr>\n",
       "      <th>19</th>\n",
       "      <td>2023/05/11_11-30-22</td>\n",
       "      <td>33.0</td>\n",
       "      <td>91.40</td>\n",
       "      <td>63</td>\n",
       "      <td>1007</td>\n",
       "      <td>NaN</td>\n",
       "    </tr>\n",
       "    <tr>\n",
       "      <th>20</th>\n",
       "      <td>2023/05/11_11-31-22</td>\n",
       "      <td>33.0</td>\n",
       "      <td>91.40</td>\n",
       "      <td>63</td>\n",
       "      <td>1007</td>\n",
       "      <td>NaN</td>\n",
       "    </tr>\n",
       "    <tr>\n",
       "      <th>21</th>\n",
       "      <td>2023/05/11_11-32-22</td>\n",
       "      <td>33.0</td>\n",
       "      <td>91.40</td>\n",
       "      <td>63</td>\n",
       "      <td>1007</td>\n",
       "      <td>NaN</td>\n",
       "    </tr>\n",
       "    <tr>\n",
       "      <th>22</th>\n",
       "      <td>2023/05/11_11-33-22</td>\n",
       "      <td>33.0</td>\n",
       "      <td>91.40</td>\n",
       "      <td>63</td>\n",
       "      <td>1007</td>\n",
       "      <td>NaN</td>\n",
       "    </tr>\n",
       "    <tr>\n",
       "      <th>23</th>\n",
       "      <td>2023/05/11_11-34-22</td>\n",
       "      <td>33.0</td>\n",
       "      <td>91.40</td>\n",
       "      <td>63</td>\n",
       "      <td>1007</td>\n",
       "      <td>NaN</td>\n",
       "    </tr>\n",
       "    <tr>\n",
       "      <th>24</th>\n",
       "      <td>2023/05/11_11-35-22</td>\n",
       "      <td>33.0</td>\n",
       "      <td>91.40</td>\n",
       "      <td>63</td>\n",
       "      <td>1007</td>\n",
       "      <td>NaN</td>\n",
       "    </tr>\n",
       "  </tbody>\n",
       "</table>\n",
       "</div>"
      ],
      "text/plain": [
       "                   Time  Temperature_C  Temperature_F  Humidity  Pressure  \\\n",
       "0   2023/05/11_11-11-22           32.9          91.22        70      1007   \n",
       "1   2023/05/11_11-12-22           32.9          91.22        70      1007   \n",
       "2   2023/05/11_11-13-22           32.9          91.22        70      1007   \n",
       "3   2023/05/11_11-14-22           32.9          91.22        68      1007   \n",
       "4   2023/05/11_11-15-22           32.9          91.22        68      1007   \n",
       "5   2023/05/11_11-16-22           32.9          91.22        68      1007   \n",
       "6   2023/05/11_11-17-22           32.9          91.22        65      1007   \n",
       "7   2023/05/11_11-18-22           32.9          91.22        65      1007   \n",
       "8   2023/05/11_11-19-22           33.0          91.40        63      1007   \n",
       "9   2023/05/11_11-20-22           33.0          91.40        63      1007   \n",
       "10  2023/05/11_11-21-22           33.0          91.40        63      1007   \n",
       "11  2023/05/11_11-22-22           33.0          91.40        63      1007   \n",
       "12  2023/05/11_11-23-22           33.0          91.40        63      1007   \n",
       "13  2023/05/11_11-24-22           33.0          91.40        63      1007   \n",
       "14  2023/05/11_11-25-22           33.0          91.40        63      1007   \n",
       "15  2023/05/11_11-26-22           33.0          91.40        63      1007   \n",
       "16  2023/05/11_11-27-22           33.0          91.40        63      1007   \n",
       "17  2023/05/11_11-28-22           33.0          91.40        63      1007   \n",
       "18  2023/05/11_11-29-22           33.0          91.40        63      1007   \n",
       "19  2023/05/11_11-30-22           33.0          91.40        63      1007   \n",
       "20  2023/05/11_11-31-22           33.0          91.40        63      1007   \n",
       "21  2023/05/11_11-32-22           33.0          91.40        63      1007   \n",
       "22  2023/05/11_11-33-22           33.0          91.40        63      1007   \n",
       "23  2023/05/11_11-34-22           33.0          91.40        63      1007   \n",
       "24  2023/05/11_11-35-22           33.0          91.40        63      1007   \n",
       "\n",
       "    Dripping status  \n",
       "0               NaN  \n",
       "1               NaN  \n",
       "2               NaN  \n",
       "3               NaN  \n",
       "4               NaN  \n",
       "5               NaN  \n",
       "6               NaN  \n",
       "7               NaN  \n",
       "8               NaN  \n",
       "9               NaN  \n",
       "10              NaN  \n",
       "11              NaN  \n",
       "12              NaN  \n",
       "13              NaN  \n",
       "14              NaN  \n",
       "15              NaN  \n",
       "16              NaN  \n",
       "17              NaN  \n",
       "18              NaN  \n",
       "19              NaN  \n",
       "20              NaN  \n",
       "21              NaN  \n",
       "22              NaN  \n",
       "23              NaN  \n",
       "24              NaN  "
      ]
     },
     "execution_count": 4,
     "metadata": {},
     "output_type": "execute_result"
    }
   ],
   "source": [
    "df"
   ]
  },
  {
   "cell_type": "code",
   "execution_count": 5,
   "metadata": {},
   "outputs": [],
   "source": [
    "def prepare_data(timeseries_data, n_steps):\n",
    "\tX, y =[],[]\n",
    "\tfor i in range(len(timeseries_data)):\n",
    "\t\t# find the end of this pattern\n",
    "\t\tend_ix = i + n_steps\n",
    "\t\t# check if we are beyond the sequence\n",
    "\t\tif end_ix > len(timeseries_data)-1:\n",
    "\t\t\tbreak\n",
    "\t\t# gather input and output parts of the pattern\n",
    "\t\tseq_x, seq_y = timeseries_data[i:end_ix], timeseries_data[end_ix]\n",
    "\t\tX.append(seq_x)\n",
    "\t\ty.append(seq_y)\n",
    "\treturn np.array(X), np.array(y)"
   ]
  },
  {
   "attachments": {},
   "cell_type": "markdown",
   "metadata": {},
   "source": [
    "Temperature_C"
   ]
  },
  {
   "cell_type": "code",
   "execution_count": 6,
   "metadata": {},
   "outputs": [],
   "source": [
    "#temperatrue-celsius\n",
    "timeseries_data1=list(df['Temperature_C'])\n",
    "n_steps=3\n",
    "X, y = prepare_data(timeseries_data1, n_steps)"
   ]
  },
  {
   "cell_type": "code",
   "execution_count": 7,
   "metadata": {},
   "outputs": [
    {
     "name": "stdout",
     "output_type": "stream",
     "text": [
      "[[32.9 32.9 32.9]\n",
      " [32.9 32.9 32.9]\n",
      " [32.9 32.9 32.9]\n",
      " [32.9 32.9 32.9]\n",
      " [32.9 32.9 32.9]\n",
      " [32.9 32.9 32.9]\n",
      " [32.9 32.9 33. ]\n",
      " [32.9 33.  33. ]\n",
      " [33.  33.  33. ]\n",
      " [33.  33.  33. ]\n",
      " [33.  33.  33. ]\n",
      " [33.  33.  33. ]\n",
      " [33.  33.  33. ]\n",
      " [33.  33.  33. ]\n",
      " [33.  33.  33. ]\n",
      " [33.  33.  33. ]\n",
      " [33.  33.  33. ]\n",
      " [33.  33.  33. ]\n",
      " [33.  33.  33. ]\n",
      " [33.  33.  33. ]\n",
      " [33.  33.  33. ]\n",
      " [33.  33.  33. ]]\n",
      "[32.9 32.9 32.9 32.9 32.9 33.  33.  33.  33.  33.  33.  33.  33.  33.\n",
      " 33.  33.  33.  33.  33.  33.  33.  33. ]\n"
     ]
    },
    {
     "data": {
      "text/plain": [
       "(None, None)"
      ]
     },
     "execution_count": 7,
     "metadata": {},
     "output_type": "execute_result"
    }
   ],
   "source": [
    "print(X),print(y)"
   ]
  },
  {
   "cell_type": "code",
   "execution_count": 8,
   "metadata": {},
   "outputs": [
    {
     "name": "stdout",
     "output_type": "stream",
     "text": [
      "[[[32.9]\n",
      "  [32.9]\n",
      "  [32.9]]\n",
      "\n",
      " [[32.9]\n",
      "  [32.9]\n",
      "  [32.9]]\n",
      "\n",
      " [[32.9]\n",
      "  [32.9]\n",
      "  [32.9]]\n",
      "\n",
      " [[32.9]\n",
      "  [32.9]\n",
      "  [32.9]]\n",
      "\n",
      " [[32.9]\n",
      "  [32.9]\n",
      "  [32.9]]\n",
      "\n",
      " [[32.9]\n",
      "  [32.9]\n",
      "  [32.9]]\n",
      "\n",
      " [[32.9]\n",
      "  [32.9]\n",
      "  [33. ]]\n",
      "\n",
      " [[32.9]\n",
      "  [33. ]\n",
      "  [33. ]]\n",
      "\n",
      " [[33. ]\n",
      "  [33. ]\n",
      "  [33. ]]\n",
      "\n",
      " [[33. ]\n",
      "  [33. ]\n",
      "  [33. ]]\n",
      "\n",
      " [[33. ]\n",
      "  [33. ]\n",
      "  [33. ]]\n",
      "\n",
      " [[33. ]\n",
      "  [33. ]\n",
      "  [33. ]]\n",
      "\n",
      " [[33. ]\n",
      "  [33. ]\n",
      "  [33. ]]\n",
      "\n",
      " [[33. ]\n",
      "  [33. ]\n",
      "  [33. ]]\n",
      "\n",
      " [[33. ]\n",
      "  [33. ]\n",
      "  [33. ]]\n",
      "\n",
      " [[33. ]\n",
      "  [33. ]\n",
      "  [33. ]]\n",
      "\n",
      " [[33. ]\n",
      "  [33. ]\n",
      "  [33. ]]\n",
      "\n",
      " [[33. ]\n",
      "  [33. ]\n",
      "  [33. ]]\n",
      "\n",
      " [[33. ]\n",
      "  [33. ]\n",
      "  [33. ]]\n",
      "\n",
      " [[33. ]\n",
      "  [33. ]\n",
      "  [33. ]]\n",
      "\n",
      " [[33. ]\n",
      "  [33. ]\n",
      "  [33. ]]\n",
      "\n",
      " [[33. ]\n",
      "  [33. ]\n",
      "  [33. ]]]\n"
     ]
    }
   ],
   "source": [
    "n_features = 1\n",
    "X = X.reshape((X.shape[0], X.shape[1], n_features))\n",
    "print(X)"
   ]
  },
  {
   "cell_type": "code",
   "execution_count": 9,
   "metadata": {},
   "outputs": [],
   "source": [
    "#define model\n",
    "model = Sequential()\n",
    "model.add(LSTM(50, activation='relu', return_sequences=True, input_shape=(n_steps, n_features)))\n",
    "model.add(LSTM(50, activation='relu'))\n",
    "model.add(Dense(1))\n",
    "model.compile(optimizer = 'adam', loss='mse', metrics=['accuracy'])\n",
    "\n"
   ]
  },
  {
   "cell_type": "code",
   "execution_count": 10,
   "metadata": {},
   "outputs": [
    {
     "data": {
      "text/plain": [
       "<keras.callbacks.History at 0x22423702be0>"
      ]
     },
     "execution_count": 10,
     "metadata": {},
     "output_type": "execute_result"
    }
   ],
   "source": [
    "# fit model\n",
    "model.fit(X, y, epochs=100, verbose=0)"
   ]
  },
  {
   "cell_type": "code",
   "execution_count": 11,
   "metadata": {},
   "outputs": [
    {
     "name": "stdout",
     "output_type": "stream",
     "text": [
      "[33.0, 33.0, 33.0, 34.0, 34.0, 34.0, 34.0, 34.0, 35.0, 35.0]\n"
     ]
    }
   ],
   "source": [
    "# demonstrate prediction for next 10 minutes\n",
    "x_input = np.array(timeseries_data1[-4:-1])\n",
    "temp_input=list(x_input)\n",
    "lst_output=[]\n",
    "i=0\n",
    "while(i<10):\n",
    "    \n",
    "    if(len(temp_input)>3):\n",
    "        x_input=np.array(temp_input[1:])\n",
    "        #print(\"{} day input {}\".format(i,x_input))\n",
    "        #print(x_input)\n",
    "        x_input = x_input.reshape((1, n_steps, n_features))\n",
    "        #print(x_input)\n",
    "        yhat = model.predict(x_input, verbose=0)\n",
    "        #print(\"{} day output {}\".format(i,yhat))\n",
    "        temp_input.append(yhat[0][0])\n",
    "        temp_input=temp_input[1:]\n",
    "        #print(temp_input)\n",
    "        lst_output.append(yhat[0][0])\n",
    "        i=i+1\n",
    "    else:\n",
    "        x_input = x_input.reshape((1, n_steps, n_features))\n",
    "        yhat = model.predict(x_input, verbose=0)\n",
    "        #print(yhat[0])\n",
    "        temp_input.append(yhat[0][0])\n",
    "        lst_output.append(yhat[0][0])\n",
    "        i=i+1\n",
    "    \n",
    "tc=[]\n",
    "for i in lst_output:\n",
    "  tc.append(np.round(i))\n",
    "  \n",
    "print(tc)"
   ]
  },
  {
   "attachments": {},
   "cell_type": "markdown",
   "metadata": {},
   "source": [
    "Temperature_F"
   ]
  },
  {
   "cell_type": "code",
   "execution_count": 12,
   "metadata": {},
   "outputs": [
    {
     "name": "stdout",
     "output_type": "stream",
     "text": [
      "[91.4, 91.4, 91.4, 93.2, 93.2, 93.2, 93.2, 93.2, 95.0, 95.0]\n"
     ]
    }
   ],
   "source": [
    "tf=[((9/5)*val+32) for i, val in enumerate(tc)]\n",
    "print(tf)"
   ]
  },
  {
   "attachments": {},
   "cell_type": "markdown",
   "metadata": {},
   "source": [
    "Humidity"
   ]
  },
  {
   "cell_type": "code",
   "execution_count": 13,
   "metadata": {},
   "outputs": [],
   "source": [
    "timeseries_data2=list(df['Humidity'])\n",
    "n_steps=3\n",
    "X2, y2 = prepare_data(timeseries_data2, n_steps)"
   ]
  },
  {
   "cell_type": "code",
   "execution_count": 14,
   "metadata": {},
   "outputs": [
    {
     "name": "stdout",
     "output_type": "stream",
     "text": [
      "[[70 70 70]\n",
      " [70 70 68]\n",
      " [70 68 68]\n",
      " [68 68 68]\n",
      " [68 68 65]\n",
      " [68 65 65]\n",
      " [65 65 63]\n",
      " [65 63 63]\n",
      " [63 63 63]\n",
      " [63 63 63]\n",
      " [63 63 63]\n",
      " [63 63 63]\n",
      " [63 63 63]\n",
      " [63 63 63]\n",
      " [63 63 63]\n",
      " [63 63 63]\n",
      " [63 63 63]\n",
      " [63 63 63]\n",
      " [63 63 63]\n",
      " [63 63 63]\n",
      " [63 63 63]\n",
      " [63 63 63]]\n",
      "[68 68 68 65 65 63 63 63 63 63 63 63 63 63 63 63 63 63 63 63 63 63]\n"
     ]
    },
    {
     "data": {
      "text/plain": [
       "(None, None)"
      ]
     },
     "execution_count": 14,
     "metadata": {},
     "output_type": "execute_result"
    }
   ],
   "source": [
    "print(X2),print(y2)"
   ]
  },
  {
   "cell_type": "code",
   "execution_count": 15,
   "metadata": {},
   "outputs": [],
   "source": [
    "n_features = 1\n",
    "X2 = X2.reshape((X2.shape[0], X2.shape[1], n_features))"
   ]
  },
  {
   "cell_type": "code",
   "execution_count": 16,
   "metadata": {},
   "outputs": [
    {
     "name": "stdout",
     "output_type": "stream",
     "text": [
      "[[[70]\n",
      "  [70]\n",
      "  [70]]\n",
      "\n",
      " [[70]\n",
      "  [70]\n",
      "  [68]]\n",
      "\n",
      " [[70]\n",
      "  [68]\n",
      "  [68]]\n",
      "\n",
      " [[68]\n",
      "  [68]\n",
      "  [68]]\n",
      "\n",
      " [[68]\n",
      "  [68]\n",
      "  [65]]\n",
      "\n",
      " [[68]\n",
      "  [65]\n",
      "  [65]]\n",
      "\n",
      " [[65]\n",
      "  [65]\n",
      "  [63]]\n",
      "\n",
      " [[65]\n",
      "  [63]\n",
      "  [63]]\n",
      "\n",
      " [[63]\n",
      "  [63]\n",
      "  [63]]\n",
      "\n",
      " [[63]\n",
      "  [63]\n",
      "  [63]]\n",
      "\n",
      " [[63]\n",
      "  [63]\n",
      "  [63]]\n",
      "\n",
      " [[63]\n",
      "  [63]\n",
      "  [63]]\n",
      "\n",
      " [[63]\n",
      "  [63]\n",
      "  [63]]\n",
      "\n",
      " [[63]\n",
      "  [63]\n",
      "  [63]]\n",
      "\n",
      " [[63]\n",
      "  [63]\n",
      "  [63]]\n",
      "\n",
      " [[63]\n",
      "  [63]\n",
      "  [63]]\n",
      "\n",
      " [[63]\n",
      "  [63]\n",
      "  [63]]\n",
      "\n",
      " [[63]\n",
      "  [63]\n",
      "  [63]]\n",
      "\n",
      " [[63]\n",
      "  [63]\n",
      "  [63]]\n",
      "\n",
      " [[63]\n",
      "  [63]\n",
      "  [63]]\n",
      "\n",
      " [[63]\n",
      "  [63]\n",
      "  [63]]\n",
      "\n",
      " [[63]\n",
      "  [63]\n",
      "  [63]]]\n"
     ]
    }
   ],
   "source": [
    "print(X2)"
   ]
  },
  {
   "cell_type": "code",
   "execution_count": 17,
   "metadata": {},
   "outputs": [],
   "source": [
    "#define model\n",
    "model2 = Sequential()\n",
    "model2.add(LSTM(50, activation='relu', return_sequences=True, input_shape=(n_steps, n_features)))\n",
    "model2.add(LSTM(50, activation='relu'))\n",
    "model2.add(Dense(1))\n",
    "model2.compile(optimizer = 'adam', loss='mse', metrics=['accuracy'])\n"
   ]
  },
  {
   "cell_type": "code",
   "execution_count": 18,
   "metadata": {},
   "outputs": [
    {
     "data": {
      "text/plain": [
       "<keras.callbacks.History at 0x22427b835b0>"
      ]
     },
     "execution_count": 18,
     "metadata": {},
     "output_type": "execute_result"
    }
   ],
   "source": [
    "\n",
    "# fit model\n",
    "model2.fit(X2, y2, epochs=100, verbose=0)"
   ]
  },
  {
   "cell_type": "code",
   "execution_count": 19,
   "metadata": {},
   "outputs": [
    {
     "name": "stdout",
     "output_type": "stream",
     "text": [
      "[62.0, 62.0, 62.0, 61.0, 61.0, 61.0, 60.0, 60.0, 59.0, 59.0, 59.0, 58.0]\n"
     ]
    }
   ],
   "source": [
    "# demonstrate prediction for next 10 days\n",
    "x_input = np.array(timeseries_data2[-4:-1])\n",
    "temp_input=list(x_input)\n",
    "lst_output=[]\n",
    "i=0\n",
    "while(i<12):\n",
    "    \n",
    "    if(len(temp_input)>3):\n",
    "        x_input=np.array(temp_input[1:])\n",
    "        #print(\"{} day input {}\".format(i,x_input))\n",
    "        #print(x_input)\n",
    "        x_input = x_input.reshape((1, n_steps, n_features))\n",
    "        #print(x_input)\n",
    "        yhat = model2.predict(x_input, verbose=0)\n",
    "        #print(\"{} day output {}\".format(i,yhat))\n",
    "        temp_input.append(yhat[0][0])\n",
    "        temp_input=temp_input[1:]\n",
    "        #print(temp_input)\n",
    "        lst_output.append(yhat[0][0])\n",
    "        i=i+1\n",
    "    else:\n",
    "        x_input = x_input.reshape((1, n_steps, n_features))\n",
    "        yhat = model2.predict(x_input, verbose=0)\n",
    "        #print(yhat[0])\n",
    "        temp_input.append(yhat[0][0])\n",
    "        lst_output.append(yhat[0][0])\n",
    "        i=i+1\n",
    "    \n",
    "hum=[]\n",
    "for i in lst_output:\n",
    "  hum.append(np.round(i))\n",
    "  \n",
    "print(hum)"
   ]
  },
  {
   "attachments": {},
   "cell_type": "markdown",
   "metadata": {},
   "source": [
    "Pressure"
   ]
  },
  {
   "cell_type": "code",
   "execution_count": 20,
   "metadata": {},
   "outputs": [],
   "source": [
    "timeseries_data3=list(df['Pressure'])\n",
    "n_steps=3\n",
    "X3, y3 = prepare_data(timeseries_data3, n_steps)"
   ]
  },
  {
   "cell_type": "code",
   "execution_count": 21,
   "metadata": {},
   "outputs": [
    {
     "name": "stdout",
     "output_type": "stream",
     "text": [
      "[[1007 1007 1007]\n",
      " [1007 1007 1007]\n",
      " [1007 1007 1007]\n",
      " [1007 1007 1007]\n",
      " [1007 1007 1007]\n",
      " [1007 1007 1007]\n",
      " [1007 1007 1007]\n",
      " [1007 1007 1007]\n",
      " [1007 1007 1007]\n",
      " [1007 1007 1007]\n",
      " [1007 1007 1007]\n",
      " [1007 1007 1007]\n",
      " [1007 1007 1007]\n",
      " [1007 1007 1007]\n",
      " [1007 1007 1007]\n",
      " [1007 1007 1007]\n",
      " [1007 1007 1007]\n",
      " [1007 1007 1007]\n",
      " [1007 1007 1007]\n",
      " [1007 1007 1007]\n",
      " [1007 1007 1007]\n",
      " [1007 1007 1007]]\n",
      "[1007 1007 1007 1007 1007 1007 1007 1007 1007 1007 1007 1007 1007 1007\n",
      " 1007 1007 1007 1007 1007 1007 1007 1007]\n"
     ]
    },
    {
     "data": {
      "text/plain": [
       "(None, None)"
      ]
     },
     "execution_count": 21,
     "metadata": {},
     "output_type": "execute_result"
    }
   ],
   "source": [
    "print(X3),print(y3)"
   ]
  },
  {
   "cell_type": "code",
   "execution_count": 22,
   "metadata": {},
   "outputs": [],
   "source": [
    "n_features = 1\n",
    "X3 = X3.reshape((X3.shape[0], X3.shape[1], n_features))"
   ]
  },
  {
   "cell_type": "code",
   "execution_count": 23,
   "metadata": {},
   "outputs": [
    {
     "name": "stdout",
     "output_type": "stream",
     "text": [
      "[[[1007]\n",
      "  [1007]\n",
      "  [1007]]\n",
      "\n",
      " [[1007]\n",
      "  [1007]\n",
      "  [1007]]\n",
      "\n",
      " [[1007]\n",
      "  [1007]\n",
      "  [1007]]\n",
      "\n",
      " [[1007]\n",
      "  [1007]\n",
      "  [1007]]\n",
      "\n",
      " [[1007]\n",
      "  [1007]\n",
      "  [1007]]\n",
      "\n",
      " [[1007]\n",
      "  [1007]\n",
      "  [1007]]\n",
      "\n",
      " [[1007]\n",
      "  [1007]\n",
      "  [1007]]\n",
      "\n",
      " [[1007]\n",
      "  [1007]\n",
      "  [1007]]\n",
      "\n",
      " [[1007]\n",
      "  [1007]\n",
      "  [1007]]\n",
      "\n",
      " [[1007]\n",
      "  [1007]\n",
      "  [1007]]\n",
      "\n",
      " [[1007]\n",
      "  [1007]\n",
      "  [1007]]\n",
      "\n",
      " [[1007]\n",
      "  [1007]\n",
      "  [1007]]\n",
      "\n",
      " [[1007]\n",
      "  [1007]\n",
      "  [1007]]\n",
      "\n",
      " [[1007]\n",
      "  [1007]\n",
      "  [1007]]\n",
      "\n",
      " [[1007]\n",
      "  [1007]\n",
      "  [1007]]\n",
      "\n",
      " [[1007]\n",
      "  [1007]\n",
      "  [1007]]\n",
      "\n",
      " [[1007]\n",
      "  [1007]\n",
      "  [1007]]\n",
      "\n",
      " [[1007]\n",
      "  [1007]\n",
      "  [1007]]\n",
      "\n",
      " [[1007]\n",
      "  [1007]\n",
      "  [1007]]\n",
      "\n",
      " [[1007]\n",
      "  [1007]\n",
      "  [1007]]\n",
      "\n",
      " [[1007]\n",
      "  [1007]\n",
      "  [1007]]\n",
      "\n",
      " [[1007]\n",
      "  [1007]\n",
      "  [1007]]]\n"
     ]
    }
   ],
   "source": [
    "print(X3)"
   ]
  },
  {
   "cell_type": "code",
   "execution_count": 24,
   "metadata": {},
   "outputs": [],
   "source": [
    "#define model\n",
    "model3 = Sequential()\n",
    "model3.add(LSTM(50, activation='relu', return_sequences=True, input_shape=(n_steps, n_features)))\n",
    "model3.add(LSTM(50, activation='relu'))\n",
    "model3.add(Dense(1))\n",
    "model3.compile(optimizer = 'adam', loss='mse', metrics=['accuracy'])\n"
   ]
  },
  {
   "cell_type": "code",
   "execution_count": 25,
   "metadata": {},
   "outputs": [
    {
     "data": {
      "text/plain": [
       "<keras.callbacks.History at 0x2242d08ae20>"
      ]
     },
     "execution_count": 25,
     "metadata": {},
     "output_type": "execute_result"
    }
   ],
   "source": [
    "\n",
    "# fit model\n",
    "model3.fit(X3, y3, epochs=100, verbose=0)"
   ]
  },
  {
   "cell_type": "code",
   "execution_count": 26,
   "metadata": {},
   "outputs": [
    {
     "name": "stdout",
     "output_type": "stream",
     "text": [
      "[1029.0, 1032.0, 1034.0, 1051.0, 1057.0, 1059.0, 1074.0, 1081.0, 1084.0, 1097.0, 1104.0, 1109.0]\n"
     ]
    }
   ],
   "source": [
    "# demonstrate prediction for next 10 days\n",
    "x_input = np.array(timeseries_data3[-4:-1])\n",
    "temp_input=list(x_input)\n",
    "lst_output=[]\n",
    "i=0\n",
    "while(i<12):\n",
    "    \n",
    "    if(len(temp_input)>3):\n",
    "        x_input=np.array(temp_input[1:])\n",
    "        #print(\"{} day input {}\".format(i,x_input))\n",
    "        #print(x_input)\n",
    "        x_input = x_input.reshape((1, n_steps, n_features))\n",
    "        #print(x_input)\n",
    "        yhat = model.predict(x_input, verbose=0)\n",
    "        #print(\"{} day output {}\".format(i,yhat))\n",
    "        temp_input.append(yhat[0][0])\n",
    "        temp_input=temp_input[1:]\n",
    "        #print(temp_input)\n",
    "        lst_output.append(yhat[0][0])\n",
    "        i=i+1\n",
    "    else:\n",
    "        x_input = x_input.reshape((1, n_steps, n_features))\n",
    "        yhat = model.predict(x_input, verbose=0)\n",
    "        #print(yhat[0])\n",
    "        temp_input.append(yhat[0][0])\n",
    "        lst_output.append(yhat[0][0])\n",
    "        i=i+1\n",
    "    \n",
    "pres=[]\n",
    "for i in lst_output:\n",
    "  pres.append(np.round(i))\n",
    "  \n",
    "print(pres)"
   ]
  },
  {
   "cell_type": "code",
   "execution_count": 27,
   "metadata": {},
   "outputs": [
    {
     "name": "stderr",
     "output_type": "stream",
     "text": [
      "A subdirectory or file -p already exists.\n",
      "Error occurred while processing: -p.\n",
      "A subdirectory or file saved_model already exists.\n",
      "Error occurred while processing: saved_model.\n"
     ]
    },
    {
     "name": "stdout",
     "output_type": "stream",
     "text": [
      "INFO:tensorflow:Assets written to: C:/Users/Anusha/OneDrive/Documents/VI SEM/IoT lab/IoT Mini project/temp_c\\assets\n",
      "INFO:tensorflow:Assets written to: C:/Users/Anusha/OneDrive/Documents/VI SEM/IoT lab/IoT Mini project/humidity\\assets\n",
      "INFO:tensorflow:Assets written to: C:/Users/Anusha/OneDrive/Documents/VI SEM/IoT lab/IoT Mini project/pressure\\assets\n"
     ]
    }
   ],
   "source": [
    "!mkdir -p saved_model\n",
    "model.save('C:/Users/Anusha/OneDrive/Documents/VI SEM/IoT lab/IoT Mini project/temp_c')\n",
    "model2.save('C:/Users/Anusha/OneDrive/Documents/VI SEM/IoT lab/IoT Mini project/humidity')\n",
    "model3.save('C:/Users/Anusha/OneDrive/Documents/VI SEM/IoT lab/IoT Mini project/pressure')"
   ]
  },
  {
   "attachments": {},
   "cell_type": "markdown",
   "metadata": {},
   "source": [
    "Overall functions"
   ]
  },
  {
   "cell_type": "code",
   "execution_count": 28,
   "metadata": {},
   "outputs": [],
   "source": [
    "#pred data prep\n",
    "def prepare_data(timeseries_data, n_steps=3):\n",
    "\tX, y =[],[]\n",
    "\tfor i in range(len(timeseries_data)):\n",
    "\t\t# find the end of this pattern\n",
    "\t\tend_ix = i + n_steps\n",
    "\t\t# check if we are beyond the sequence\n",
    "\t\tif end_ix > len(timeseries_data)-1:\n",
    "\t\t\tbreak\n",
    "\t\t# gather input and output parts of the pattern\n",
    "\t\tseq_x, seq_y = timeseries_data[i:end_ix], timeseries_data[end_ix]\n",
    "\t\tX.append(seq_x)\n",
    "\t\ty.append(seq_y)\n",
    "\treturn np.array(X), np.array(y)\n",
    " \n",
    "#functions to get individual output\n",
    "def temp_c(data=list(df['Temperature_C'])[-10:], n_steps=3,n_features=1):\n",
    "  X,y=prepare_data(data, n_steps)\n",
    "  X = X.reshape((X.shape[0], X.shape[1],n_features))\n",
    "  new_model = keras.models.load_model('C:/Users/Anusha/OneDrive/Documents/VI SEM/IoT lab/IoT Mini project/temp_c')\n",
    "  new_model.fit(X,y,epochs=100,verbose=0)\n",
    "  x_input=np.array(data[(-n_steps-1):-1])\n",
    "  temp_input=list(x_input)\n",
    "  lst_output=[]\n",
    "  i=0\n",
    "  while(i<10):\n",
    "      \n",
    "      if(len(temp_input)>3):\n",
    "          x_input=np.array(temp_input[1:])\n",
    "          x_input = x_input.reshape((1, n_steps, n_features))\n",
    "          yhat = new_model.predict(x_input, verbose=0)\n",
    "          temp_input.append(yhat[0][0])\n",
    "          temp_input=temp_input[1:]\n",
    "          lst_output.append(yhat[0][0])\n",
    "          i=i+1\n",
    "      else:\n",
    "          x_input = x_input.reshape((1, n_steps, n_features))\n",
    "          yhat = new_model.predict(x_input, verbose=0)\n",
    "          temp_input.append(yhat[0][0])\n",
    "          lst_output.append(yhat[0][0])\n",
    "          i=i+1\n",
    "      \n",
    "  tc_out=[]\n",
    "  for i in lst_output:\n",
    "    tc_out.append(np.round(i))\n",
    "    \n",
    "  print('Predicted temperature (Celsius): \\n',tc_out)\n",
    "  tf_out=[((9/5)*val+32) for i, val in enumerate(tc_out)]\n",
    "  print('Predicted temperature (Fahrenheit): \\n',tf_out)\n",
    "  # return tc_out,tf_out\n",
    "  \n",
    "#functions to get individual output\n",
    "def humidity(data=list(df['Humidity'])[-10:], n_steps=3,n_features=1):\n",
    "  X,y=prepare_data(data, n_steps)\n",
    "  X = X.reshape((X.shape[0], X.shape[1],n_features))\n",
    "  new_model = keras.models.load_model('C:/Users/Anusha/OneDrive/Documents/VI SEM/IoT lab/IoT Mini project/humidity')\n",
    "  new_model.fit(X,y,epochs=100,verbose=0)\n",
    "  x_input=np.array(data[(-n_steps-1):-1])\n",
    "  temp_input=list(x_input)\n",
    "  lst_output=[]\n",
    "  i=0\n",
    "  while(i<10):\n",
    "      \n",
    "      if(len(temp_input)>3):\n",
    "          x_input=np.array(temp_input[1:])\n",
    "          x_input = x_input.reshape((1, n_steps, n_features))\n",
    "          yhat = new_model.predict(x_input, verbose=0)\n",
    "          temp_input.append(yhat[0][0])\n",
    "          temp_input=temp_input[1:]\n",
    "          lst_output.append(yhat[0][0])\n",
    "          i=i+1\n",
    "      else:\n",
    "          x_input = x_input.reshape((1, n_steps, n_features))\n",
    "          yhat = new_model.predict(x_input, verbose=0)\n",
    "          temp_input.append(yhat[0][0])\n",
    "          lst_output.append(yhat[0][0])\n",
    "          i=i+1\n",
    "      \n",
    "  hum_out=[]\n",
    "  for i in lst_output:\n",
    "    hum_out.append(np.round(i))\n",
    "    \n",
    "  print('Predicted Humidity: \\n',hum_out)\n",
    "\n",
    "def pressure(data=list(df['Pressure'])[-10:], n_steps=3,n_features=1):\n",
    "  X,y=prepare_data(data, n_steps)\n",
    "  X = X.reshape((X.shape[0], X.shape[1],n_features))\n",
    "  new_model = keras.models.load_model('C:/Users/Anusha/OneDrive/Documents/VI SEM/IoT lab/IoT Mini project/pressure')\n",
    "  new_model.fit(X,y,epochs=100,verbose=0)\n",
    "  x_input=np.array(data[(-n_steps-1):-1])\n",
    "  temp_input=list(x_input)\n",
    "  lst_output=[]\n",
    "  i=0\n",
    "  while(i<10):\n",
    "      \n",
    "      if(len(temp_input)>3):\n",
    "          x_input=np.array(temp_input[1:])\n",
    "          x_input = x_input.reshape((1, n_steps, n_features))\n",
    "          yhat = new_model.predict(x_input, verbose=0)\n",
    "          temp_input.append(yhat[0][0])\n",
    "          temp_input=temp_input[1:]\n",
    "          lst_output.append(yhat[0][0])\n",
    "          i=i+1\n",
    "      else:\n",
    "          x_input = x_input.reshape((1, n_steps, n_features))\n",
    "          yhat = new_model.predict(x_input, verbose=0)\n",
    "          temp_input.append(yhat[0][0])\n",
    "          lst_output.append(yhat[0][0])\n",
    "          i=i+1\n",
    "      \n",
    "  pres_out=[]\n",
    "  for i in lst_output:\n",
    "    pres_out.append(np.round(i))\n",
    "    \n",
    "  print('Predicted Pressure: \\n',pres_out)\n",
    "    \n"
   ]
  },
  {
   "cell_type": "code",
   "execution_count": 42,
   "metadata": {},
   "outputs": [
    {
     "data": {
      "text/plain": [
       "pandas.core.frame.DataFrame"
      ]
     },
     "execution_count": 42,
     "metadata": {},
     "output_type": "execute_result"
    }
   ],
   "source": [
    "ttype(df[['Temperature_C']]"
   ]
  },
  {
   "cell_type": "code",
   "execution_count": 45,
   "metadata": {},
   "outputs": [
    {
     "name": "stdout",
     "output_type": "stream",
     "text": [
      "Predicted temperature (Celsius): \n",
      " [33.0, 33.0, 33.0, 33.0, 33.0, 33.0, 33.0, 34.0, 34.0, 34.0]\n",
      "Predicted temperature (Fahrenheit): \n",
      " [91.4, 91.4, 91.4, 91.4, 91.4, 91.4, 91.4, 93.2, 93.2, 93.2]\n",
      "Predicted Humidity: \n",
      " [68.0, 68.0, 68.0, 68.0, 68.0, 68.0, 68.0, 68.0, 68.0, 68.0]\n",
      "Predicted Pressure: \n",
      " [1007.0, 1007.0, 1006.0, 1006.0, 1006.0, 1006.0, 1006.0, 1006.0, 1006.0, 1005.0]\n"
     ]
    }
   ],
   "source": [
    "t=[33,33,33,33,33,33,33,33.2,33.2,33.2]\n",
    "h=[68,68,68,68,68,68,68,68,68,68]\n",
    "p=[1007,1007,1007,1007,1007,1007,1007,1007,1007,1007]\n",
    "temp_c(t,3,1) #now its returning..not printing\n",
    "humidity(h,3,1)\n",
    "pressure(p,3,1)"
   ]
  },
  {
   "cell_type": "markdown",
   "metadata": {},
   "source": []
  },
  {
   "cell_type": "code",
   "execution_count": 30,
   "metadata": {},
   "outputs": [],
   "source": [
    "# import pickle\n",
    "# pickle.dump(model, open('model_temp.pkl', 'wb'))\n",
    "# pickle.dump(model2, open('model_hum.pkl', 'wb'))\n"
   ]
  },
  {
   "cell_type": "code",
   "execution_count": null,
   "metadata": {},
   "outputs": [],
   "source": []
  }
 ],
 "metadata": {
  "kernelspec": {
   "display_name": ".venv",
   "language": "python",
   "name": "python3"
  },
  "language_info": {
   "codemirror_mode": {
    "name": "ipython",
    "version": 3
   },
   "file_extension": ".py",
   "mimetype": "text/x-python",
   "name": "python",
   "nbconvert_exporter": "python",
   "pygments_lexer": "ipython3",
   "version": "3.9.12"
  },
  "orig_nbformat": 4
 },
 "nbformat": 4,
 "nbformat_minor": 2
}
